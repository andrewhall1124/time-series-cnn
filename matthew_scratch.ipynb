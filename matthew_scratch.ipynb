{
 "cells": [
  {
   "cell_type": "code",
   "execution_count": 19,
   "metadata": {},
   "outputs": [],
   "source": [
    "import polars as pl\n",
    "import numpy as np\n",
    "from datetime import date\n",
    "import talib\n",
    "import matplotlib.pyplot as plt\n",
    "import seaborn as sns\n",
    "\n",
    "sns.set_theme()\n",
    "plt.rcParams[\"figure.dpi\"] = 300"
   ]
  },
  {
   "cell_type": "code",
   "execution_count": 48,
   "metadata": {},
   "outputs": [],
   "source": [
    "np.random.seed(42)  # for reproducibility\n",
    "open_ = np.random.normal(loc=100, scale=10, size=365) + np.linspace(0, 10, 365)\n",
    "close = open_ + np.random.normal(loc=0, scale=2, size=365) + np.linspace(0, 10, 365)\n",
    "high = [max(o, c) + np.random.uniform(0, 5) for o, c in zip(open_, close)]\n",
    "low = [min(o, c) - np.random.uniform(0, 5) for o, c in zip(open_, close)]\n",
    "\n",
    "df = pl.DataFrame(\n",
    "    {\n",
    "        \"date\": pl.date_range(date(2023, 1, 1), date(2023, 12, 31), eager=True),\n",
    "        \"open\": open_,\n",
    "        \"close\": close,\n",
    "        \"high\": high,\n",
    "        \"low\": low,\n",
    "        \"volume\": np.random.randint(1_000, 10_000, 365),\n",
    "    }\n",
    ")"
   ]
  },
  {
   "cell_type": "code",
   "execution_count": null,
   "metadata": {},
   "outputs": [],
   "source": [
    "def transform(df):\n",
    "    for period in range(6, 28):\n",
    "        rsi = talib.RSI(df[\"close\"], timeperiod=period).rename(f\"rsi_{period}\")\n",
    "        william = talib.WILLR(\n",
    "            df[\"high\"], df[\"low\"], df[\"close\"], timeperiod=period\n",
    "        ).rename(f\"william_{period}\")\n",
    "        mfi = talib.MFI(\n",
    "            df[\"high\"], df[\"low\"], df[\"close\"], df[\"volume\"], timeperiod=period\n",
    "        ).rename(f\"mfi_{period}\")\n",
    "        macd = talib.MACD(df[\"close\"], fastperiod=period, slowperiod=2 * period + 2)[\n",
    "            0\n",
    "        ].rename(f\"macd_{period}\")\n",
    "        ppo = talib.PPO(\n",
    "            df[\"close\"], fastperiod=period, slowperiod=2 * period + 2\n",
    "        ).rename(f\"ppo_{period}\")\n",
    "        roc = talib.ROC(df[\"close\"], timeperiod=period).rename(f\"roc_{period}\")\n",
    "        # TODO: cmfi\n",
    "        cmo = talib.CMO(df[\"close\"], timeperiod=period).rename(f\"cmo_{period}\")\n",
    "        sma = talib.SMA(df[\"close\"], timeperiod=period).rename(f\"sma_{period}\")\n",
    "        ema = talib.EMA(df[\"close\"], timeperiod=period).rename(f\"ema_{period}\")\n",
    "        wma = talib.WMA(df[\"close\"], timeperiod=period).rename(f\"wma_{period}\")\n",
    "        # TODO: hma\n",
    "        tema = talib.TEMA(df[\"close\"], timeperiod=period).rename(f\"tema_{period}\")\n",
    "        cci = talib.CCI(df[\"high\"], df[\"low\"], df[\"close\"], timeperiod=period).rename(\n",
    "            f\"cci_{period}\"\n",
    "        )\n",
    "        # TODO: dpo\n",
    "        # TODO: kst\n",
    "        # TODO: eom\n",
    "        # TODO: ibr\n",
    "        dmi = talib.DX(df[\"high\"], df[\"low\"], df[\"close\"], timeperiod=period).rename(\n",
    "            f\"dmi_{period}\"\n",
    "        )\n",
    "        psar = talib.SAR(df[\"high\"], df[\"low\"]).rename(f\"psar_{period}\")\n",
    "\n",
    "        df = df.with_columns(\n",
    "            rsi, william, mfi, macd, ppo, roc, cmo, sma, ema, wma, tema, cci, dmi, psar\n",
    "        )\n",
    "    return df"
   ]
  },
  {
   "cell_type": "code",
   "execution_count": 63,
   "metadata": {},
   "outputs": [
    {
     "data": {
      "text/html": [
       "<div><style>\n",
       ".dataframe > thead > tr,\n",
       ".dataframe > tbody > tr {\n",
       "  text-align: right;\n",
       "  white-space: pre-wrap;\n",
       "}\n",
       "</style>\n",
       "<small>shape: (365, 116)</small><table border=\"1\" class=\"dataframe\"><thead><tr><th>date</th><th>open</th><th>close</th><th>high</th><th>low</th><th>volume</th><th>rsi_6</th><th>william_6</th><th>mfi_6</th><th>macd_6</th><th>ppo_6</th><th>rsi_7</th><th>william_7</th><th>mfi_7</th><th>macd_7</th><th>ppo_7</th><th>rsi_8</th><th>william_8</th><th>mfi_8</th><th>macd_8</th><th>ppo_8</th><th>rsi_9</th><th>william_9</th><th>mfi_9</th><th>macd_9</th><th>ppo_9</th><th>rsi_10</th><th>william_10</th><th>mfi_10</th><th>macd_10</th><th>ppo_10</th><th>rsi_11</th><th>william_11</th><th>mfi_11</th><th>macd_11</th><th>ppo_11</th><th>rsi_12</th><th>&hellip;</th><th>macd_20</th><th>ppo_20</th><th>rsi_21</th><th>william_21</th><th>mfi_21</th><th>macd_21</th><th>ppo_21</th><th>rsi_22</th><th>william_22</th><th>mfi_22</th><th>macd_22</th><th>ppo_22</th><th>rsi_23</th><th>william_23</th><th>mfi_23</th><th>macd_23</th><th>ppo_23</th><th>rsi_24</th><th>william_24</th><th>mfi_24</th><th>macd_24</th><th>ppo_24</th><th>rsi_25</th><th>william_25</th><th>mfi_25</th><th>macd_25</th><th>ppo_25</th><th>rsi_26</th><th>william_26</th><th>mfi_26</th><th>macd_26</th><th>ppo_26</th><th>rsi_27</th><th>william_27</th><th>mfi_27</th><th>macd_27</th><th>ppo_27</th></tr><tr><td>date</td><td>f64</td><td>f64</td><td>f64</td><td>f64</td><td>i64</td><td>f64</td><td>f64</td><td>f64</td><td>f64</td><td>f64</td><td>f64</td><td>f64</td><td>f64</td><td>f64</td><td>f64</td><td>f64</td><td>f64</td><td>f64</td><td>f64</td><td>f64</td><td>f64</td><td>f64</td><td>f64</td><td>f64</td><td>f64</td><td>f64</td><td>f64</td><td>f64</td><td>f64</td><td>f64</td><td>f64</td><td>f64</td><td>f64</td><td>f64</td><td>f64</td><td>f64</td><td>&hellip;</td><td>f64</td><td>f64</td><td>f64</td><td>f64</td><td>f64</td><td>f64</td><td>f64</td><td>f64</td><td>f64</td><td>f64</td><td>f64</td><td>f64</td><td>f64</td><td>f64</td><td>f64</td><td>f64</td><td>f64</td><td>f64</td><td>f64</td><td>f64</td><td>f64</td><td>f64</td><td>f64</td><td>f64</td><td>f64</td><td>f64</td><td>f64</td><td>f64</td><td>f64</td><td>f64</td><td>f64</td><td>f64</td><td>f64</td><td>f64</td><td>f64</td><td>f64</td><td>f64</td></tr></thead><tbody><tr><td>2023-01-01</td><td>104.967142</td><td>104.164701</td><td>105.059095</td><td>99.483639</td><td>5107</td><td>NaN</td><td>NaN</td><td>NaN</td><td>NaN</td><td>NaN</td><td>NaN</td><td>NaN</td><td>NaN</td><td>NaN</td><td>NaN</td><td>NaN</td><td>NaN</td><td>NaN</td><td>NaN</td><td>NaN</td><td>NaN</td><td>NaN</td><td>NaN</td><td>NaN</td><td>NaN</td><td>NaN</td><td>NaN</td><td>NaN</td><td>NaN</td><td>NaN</td><td>NaN</td><td>NaN</td><td>NaN</td><td>NaN</td><td>NaN</td><td>NaN</td><td>&hellip;</td><td>NaN</td><td>NaN</td><td>NaN</td><td>NaN</td><td>NaN</td><td>NaN</td><td>NaN</td><td>NaN</td><td>NaN</td><td>NaN</td><td>NaN</td><td>NaN</td><td>NaN</td><td>NaN</td><td>NaN</td><td>NaN</td><td>NaN</td><td>NaN</td><td>NaN</td><td>NaN</td><td>NaN</td><td>NaN</td><td>NaN</td><td>NaN</td><td>NaN</td><td>NaN</td><td>NaN</td><td>NaN</td><td>NaN</td><td>NaN</td><td>NaN</td><td>NaN</td><td>NaN</td><td>NaN</td><td>NaN</td><td>NaN</td><td>NaN</td></tr><tr><td>2023-01-02</td><td>98.64483</td><td>99.120487</td><td>103.691981</td><td>98.384973</td><td>1560</td><td>NaN</td><td>NaN</td><td>NaN</td><td>NaN</td><td>NaN</td><td>NaN</td><td>NaN</td><td>NaN</td><td>NaN</td><td>NaN</td><td>NaN</td><td>NaN</td><td>NaN</td><td>NaN</td><td>NaN</td><td>NaN</td><td>NaN</td><td>NaN</td><td>NaN</td><td>NaN</td><td>NaN</td><td>NaN</td><td>NaN</td><td>NaN</td><td>NaN</td><td>NaN</td><td>NaN</td><td>NaN</td><td>NaN</td><td>NaN</td><td>NaN</td><td>&hellip;</td><td>NaN</td><td>NaN</td><td>NaN</td><td>NaN</td><td>NaN</td><td>NaN</td><td>NaN</td><td>NaN</td><td>NaN</td><td>NaN</td><td>NaN</td><td>NaN</td><td>NaN</td><td>NaN</td><td>NaN</td><td>NaN</td><td>NaN</td><td>NaN</td><td>NaN</td><td>NaN</td><td>NaN</td><td>NaN</td><td>NaN</td><td>NaN</td><td>NaN</td><td>NaN</td><td>NaN</td><td>NaN</td><td>NaN</td><td>NaN</td><td>NaN</td><td>NaN</td><td>NaN</td><td>NaN</td><td>NaN</td><td>NaN</td><td>NaN</td></tr><tr><td>2023-01-03</td><td>106.53183</td><td>106.61196</td><td>107.200716</td><td>103.825349</td><td>9785</td><td>NaN</td><td>NaN</td><td>NaN</td><td>NaN</td><td>NaN</td><td>NaN</td><td>NaN</td><td>NaN</td><td>NaN</td><td>NaN</td><td>NaN</td><td>NaN</td><td>NaN</td><td>NaN</td><td>NaN</td><td>NaN</td><td>NaN</td><td>NaN</td><td>NaN</td><td>NaN</td><td>NaN</td><td>NaN</td><td>NaN</td><td>NaN</td><td>NaN</td><td>NaN</td><td>NaN</td><td>NaN</td><td>NaN</td><td>NaN</td><td>NaN</td><td>&hellip;</td><td>NaN</td><td>NaN</td><td>NaN</td><td>NaN</td><td>NaN</td><td>NaN</td><td>NaN</td><td>NaN</td><td>NaN</td><td>NaN</td><td>NaN</td><td>NaN</td><td>NaN</td><td>NaN</td><td>NaN</td><td>NaN</td><td>NaN</td><td>NaN</td><td>NaN</td><td>NaN</td><td>NaN</td><td>NaN</td><td>NaN</td><td>NaN</td><td>NaN</td><td>NaN</td><td>NaN</td><td>NaN</td><td>NaN</td><td>NaN</td><td>NaN</td><td>NaN</td><td>NaN</td><td>NaN</td><td>NaN</td><td>NaN</td><td>NaN</td></tr><tr><td>2023-01-04</td><td>115.312716</td><td>115.590486</td><td>118.473068</td><td>111.767414</td><td>6548</td><td>NaN</td><td>NaN</td><td>NaN</td><td>NaN</td><td>NaN</td><td>NaN</td><td>NaN</td><td>NaN</td><td>NaN</td><td>NaN</td><td>NaN</td><td>NaN</td><td>NaN</td><td>NaN</td><td>NaN</td><td>NaN</td><td>NaN</td><td>NaN</td><td>NaN</td><td>NaN</td><td>NaN</td><td>NaN</td><td>NaN</td><td>NaN</td><td>NaN</td><td>NaN</td><td>NaN</td><td>NaN</td><td>NaN</td><td>NaN</td><td>NaN</td><td>&hellip;</td><td>NaN</td><td>NaN</td><td>NaN</td><td>NaN</td><td>NaN</td><td>NaN</td><td>NaN</td><td>NaN</td><td>NaN</td><td>NaN</td><td>NaN</td><td>NaN</td><td>NaN</td><td>NaN</td><td>NaN</td><td>NaN</td><td>NaN</td><td>NaN</td><td>NaN</td><td>NaN</td><td>NaN</td><td>NaN</td><td>NaN</td><td>NaN</td><td>NaN</td><td>NaN</td><td>NaN</td><td>NaN</td><td>NaN</td><td>NaN</td><td>NaN</td><td>NaN</td><td>NaN</td><td>NaN</td><td>NaN</td><td>NaN</td><td>NaN</td></tr><tr><td>2023-01-05</td><td>97.768356</td><td>96.332227</td><td>99.138632</td><td>91.977381</td><td>2826</td><td>NaN</td><td>NaN</td><td>NaN</td><td>NaN</td><td>NaN</td><td>NaN</td><td>NaN</td><td>NaN</td><td>NaN</td><td>NaN</td><td>NaN</td><td>NaN</td><td>NaN</td><td>NaN</td><td>NaN</td><td>NaN</td><td>NaN</td><td>NaN</td><td>NaN</td><td>NaN</td><td>NaN</td><td>NaN</td><td>NaN</td><td>NaN</td><td>NaN</td><td>NaN</td><td>NaN</td><td>NaN</td><td>NaN</td><td>NaN</td><td>NaN</td><td>&hellip;</td><td>NaN</td><td>NaN</td><td>NaN</td><td>NaN</td><td>NaN</td><td>NaN</td><td>NaN</td><td>NaN</td><td>NaN</td><td>NaN</td><td>NaN</td><td>NaN</td><td>NaN</td><td>NaN</td><td>NaN</td><td>NaN</td><td>NaN</td><td>NaN</td><td>NaN</td><td>NaN</td><td>NaN</td><td>NaN</td><td>NaN</td><td>NaN</td><td>NaN</td><td>NaN</td><td>NaN</td><td>NaN</td><td>NaN</td><td>NaN</td><td>NaN</td><td>NaN</td><td>NaN</td><td>NaN</td><td>NaN</td><td>NaN</td><td>NaN</td></tr><tr><td>&hellip;</td><td>&hellip;</td><td>&hellip;</td><td>&hellip;</td><td>&hellip;</td><td>&hellip;</td><td>&hellip;</td><td>&hellip;</td><td>&hellip;</td><td>&hellip;</td><td>&hellip;</td><td>&hellip;</td><td>&hellip;</td><td>&hellip;</td><td>&hellip;</td><td>&hellip;</td><td>&hellip;</td><td>&hellip;</td><td>&hellip;</td><td>&hellip;</td><td>&hellip;</td><td>&hellip;</td><td>&hellip;</td><td>&hellip;</td><td>&hellip;</td><td>&hellip;</td><td>&hellip;</td><td>&hellip;</td><td>&hellip;</td><td>&hellip;</td><td>&hellip;</td><td>&hellip;</td><td>&hellip;</td><td>&hellip;</td><td>&hellip;</td><td>&hellip;</td><td>&hellip;</td><td>&hellip;</td><td>&hellip;</td><td>&hellip;</td><td>&hellip;</td><td>&hellip;</td><td>&hellip;</td><td>&hellip;</td><td>&hellip;</td><td>&hellip;</td><td>&hellip;</td><td>&hellip;</td><td>&hellip;</td><td>&hellip;</td><td>&hellip;</td><td>&hellip;</td><td>&hellip;</td><td>&hellip;</td><td>&hellip;</td><td>&hellip;</td><td>&hellip;</td><td>&hellip;</td><td>&hellip;</td><td>&hellip;</td><td>&hellip;</td><td>&hellip;</td><td>&hellip;</td><td>&hellip;</td><td>&hellip;</td><td>&hellip;</td><td>&hellip;</td><td>&hellip;</td><td>&hellip;</td><td>&hellip;</td><td>&hellip;</td><td>&hellip;</td><td>&hellip;</td><td>&hellip;</td><td>&hellip;</td></tr><tr><td>2023-12-27</td><td>115.083575</td><td>124.605718</td><td>125.443131</td><td>112.505178</td><td>1631</td><td>57.066608</td><td>-12.031292</td><td>29.948127</td><td>0.671472</td><td>-1.348816</td><td>56.140303</td><td>-12.031292</td><td>43.120184</td><td>0.61719</td><td>-0.500844</td><td>55.428947</td><td>-12.031292</td><td>39.950842</td><td>0.577955</td><td>-0.119005</td><td>54.859488</td><td>-12.031292</td><td>31.723719</td><td>0.540243</td><td>0.553181</td><td>54.390501</td><td>-29.222836</td><td>36.326179</td><td>0.499922</td><td>2.45325</td><td>53.996589</td><td>-29.222836</td><td>47.184428</td><td>0.456992</td><td>2.823919</td><td>53.661</td><td>&hellip;</td><td>0.178798</td><td>-0.092111</td><td>52.014063</td><td>-25.295856</td><td>61.854232</td><td>0.171539</td><td>-0.323144</td><td>51.913971</td><td>-25.295856</td><td>58.112247</td><td>0.168892</td><td>-0.711045</td><td>51.823048</td><td>-25.295856</td><td>61.511705</td><td>0.170522</td><td>-1.031121</td><td>51.740185</td><td>-25.295856</td><td>62.406776</td><td>0.176076</td><td>-1.445606</td><td>51.664437</td><td>-25.295856</td><td>59.270446</td><td>0.185202</td><td>-1.412425</td><td>51.594994</td><td>-25.295856</td><td>55.565012</td><td>0.197554</td><td>-1.364546</td><td>51.531159</td><td>-25.295856</td><td>57.521816</td><td>0.21281</td><td>-1.157376</td></tr><tr><td>2023-12-28</td><td>125.244972</td><td>135.199422</td><td>135.722261</td><td>120.648012</td><td>1905</td><td>65.473361</td><td>-1.407945</td><td>44.816649</td><td>3.057897</td><td>0.291151</td><td>63.673932</td><td>-1.348781</td><td>35.591017</td><td>2.714171</td><td>0.725095</td><td>62.242863</td><td>-1.348781</td><td>46.897705</td><td>2.447107</td><td>0.594175</td><td>61.070674</td><td>-1.348781</td><td>43.663852</td><td>2.226986</td><td>0.504072</td><td>60.08992</td><td>-1.348781</td><td>35.119289</td><td>2.037916</td><td>1.534626</td><td>59.256286</td><td>-2.102902</td><td>39.289326</td><td>1.87148</td><td>2.871102</td><td>58.538965</td><td>&hellip;</td><td>1.005268</td><td>0.178212</td><td>54.882944</td><td>-1.820313</td><td>61.174916</td><td>0.96093</td><td>0.203888</td><td>54.649104</td><td>-1.820313</td><td>62.609306</td><td>0.924163</td><td>-0.034176</td><td>54.434889</td><td>-1.820313</td><td>58.892164</td><td>0.894287</td><td>-0.608631</td><td>54.238061</td><td>-1.820313</td><td>62.171165</td><td>0.870655</td><td>-0.854264</td><td>54.056708</td><td>-1.820313</td><td>63.036171</td><td>0.85267</td><td>-1.010203</td><td>53.88918</td><td>-1.820313</td><td>59.918626</td><td>0.839775</td><td>-1.123003</td><td>53.734053</td><td>-1.820313</td><td>56.228611</td><td>0.831466</td><td>-1.144141</td></tr><tr><td>2023-12-29</td><td>108.857453</td><td>119.497672</td><td>122.679823</td><td>106.372636</td><td>3014</td><td>48.561059</td><td>-43.690941</td><td>36.190356</td><td>2.02607</td><td>0.378641</td><td>49.092484</td><td>-43.690941</td><td>39.214757</td><td>1.943878</td><td>1.050291</td><td>49.439825</td><td>-41.854982</td><td>31.964766</td><td>1.854158</td><td>0.541087</td><td>49.673747</td><td>-41.854982</td><td>42.886509</td><td>1.760502</td><td>0.955379</td><td>49.83431</td><td>-41.854982</td><td>40.166142</td><td>1.665138</td><td>0.494727</td><td>49.945976</td><td>-41.854982</td><td>32.820533</td><td>1.570149</td><td>1.746646</td><td>50.024396</td><td>&hellip;</td><td>0.948704</td><td>-0.034067</td><td>50.211105</td><td>-36.615237</td><td>55.946423</td><td>0.913205</td><td>0.281817</td><td>50.214149</td><td>-36.615237</td><td>59.453933</td><td>0.883785</td><td>0.31134</td><td>50.216388</td><td>-36.615237</td><td>60.911278</td><td>0.860025</td><td>-0.02136</td><td>50.218038</td><td>-36.615237</td><td>57.387353</td><td>0.841492</td><td>-0.710826</td><td>50.219257</td><td>-36.615237</td><td>60.706299</td><td>0.827761</td><td>-0.921064</td><td>50.22016</td><td>-36.615237</td><td>61.584103</td><td>0.818419</td><td>-0.857109</td><td>50.220832</td><td>-36.615237</td><td>58.605139</td><td>0.813077</td><td>-0.943298</td></tr><tr><td>2023-12-30</td><td>113.989645</td><td>122.882653</td><td>126.415031</td><td>109.028855</td><td>8896</td><td>51.783071</td><td>-34.575579</td><td>59.697707</td><td>1.825942</td><td>1.243165</td><td>51.864885</td><td>-34.575579</td><td>54.361438</td><td>1.824964</td><td>0.877056</td><td>51.878548</td><td>-34.575579</td><td>55.929749</td><td>1.794052</td><td>1.830089</td><td>51.852891</td><td>-33.122661</td><td>48.031366</td><td>1.743941</td><td>0.741248</td><td>51.804604</td><td>-33.122661</td><td>54.654917</td><td>1.681438</td><td>0.819933</td><td>51.743946</td><td>-33.122661</td><td>51.865963</td><td>1.611558</td><td>0.871884</td><td>51.677366</td><td>&hellip;</td><td>1.060643</td><td>0.531243</td><td>51.152326</td><td>-29.114153</td><td>57.187518</td><td>1.025339</td><td>0.031644</td><td>51.110207</td><td>-29.114153</td><td>59.685483</td><td>0.995521</td><td>0.298166</td><td>51.070983</td><td>-29.114153</td><td>62.642843</td><td>0.970894</td><td>0.321363</td><td>51.034445</td><td>-29.114153</td><td>63.883472</td><td>0.951128</td><td>-0.181948</td><td>51.000386</td><td>-29.114153</td><td>60.453531</td><td>0.935881</td><td>-0.772751</td><td>50.968613</td><td>-29.114153</td><td>63.328144</td><td>0.924808</td><td>-0.732394</td><td>50.938943</td><td>-29.114153</td><td>64.093856</td><td>0.917577</td><td>-0.801594</td></tr><tr><td>2023-12-31</td><td>116.90144</td><td>125.34483</td><td>125.502761</td><td>112.644315</td><td>1204</td><td>54.282615</td><td>-27.945219</td><td>54.710061</td><td>2.007683</td><td>1.327367</td><td>53.991187</td><td>-27.945219</td><td>61.356841</td><td>2.018472</td><td>1.552785</td><td>53.733675</td><td>-27.945219</td><td>56.078626</td><td>1.998233</td><td>1.817806</td><td>53.500504</td><td>-27.945219</td><td>57.53302</td><td>1.956678</td><td>1.833478</td><td>53.287392</td><td>-26.770919</td><td>49.663372</td><td>1.900597</td><td>1.318699</td><td>53.092117</td><td>-26.770919</td><td>55.902419</td><td>1.835207</td><td>1.0211</td><td>52.913194</td><td>&hellip;</td><td>1.272485</td><td>0.523743</td><td>51.847559</td><td>-23.657991</td><td>59.877159</td><td>1.233009</td><td>0.560491</td><td>51.771659</td><td>-23.657991</td><td>57.710837</td><td>1.198844</td><td>0.253774</td><td>51.701471</td><td>-23.657991</td><td>60.149847</td><td>1.169758</td><td>0.508099</td><td>51.636449</td><td>-23.657991</td><td>63.041914</td><td>1.145472</td><td>0.425049</td><td>51.576108</td><td>-23.657991</td><td>64.25661</td><td>1.125687</td><td>-0.1957</td><td>51.520016</td><td>-23.657991</td><td>60.840383</td><td>1.110093</td><td>-0.741925</td><td>51.467787</td><td>-23.657991</td><td>63.661036</td><td>1.098385</td><td>-0.500348</td></tr></tbody></table></div>"
      ],
      "text/plain": [
       "shape: (365, 116)\n",
       "┌───────────┬───────────┬───────────┬───────────┬───┬───────────┬───────────┬──────────┬───────────┐\n",
       "│ date      ┆ open      ┆ close     ┆ high      ┆ … ┆ william_2 ┆ mfi_27    ┆ macd_27  ┆ ppo_27    │\n",
       "│ ---       ┆ ---       ┆ ---       ┆ ---       ┆   ┆ 7         ┆ ---       ┆ ---      ┆ ---       │\n",
       "│ date      ┆ f64       ┆ f64       ┆ f64       ┆   ┆ ---       ┆ f64       ┆ f64      ┆ f64       │\n",
       "│           ┆           ┆           ┆           ┆   ┆ f64       ┆           ┆          ┆           │\n",
       "╞═══════════╪═══════════╪═══════════╪═══════════╪═══╪═══════════╪═══════════╪══════════╪═══════════╡\n",
       "│ 2023-01-0 ┆ 104.96714 ┆ 104.16470 ┆ 105.05909 ┆ … ┆ NaN       ┆ NaN       ┆ NaN      ┆ NaN       │\n",
       "│ 1         ┆ 2         ┆ 1         ┆ 5         ┆   ┆           ┆           ┆          ┆           │\n",
       "│ 2023-01-0 ┆ 98.64483  ┆ 99.120487 ┆ 103.69198 ┆ … ┆ NaN       ┆ NaN       ┆ NaN      ┆ NaN       │\n",
       "│ 2         ┆           ┆           ┆ 1         ┆   ┆           ┆           ┆          ┆           │\n",
       "│ 2023-01-0 ┆ 106.53183 ┆ 106.61196 ┆ 107.20071 ┆ … ┆ NaN       ┆ NaN       ┆ NaN      ┆ NaN       │\n",
       "│ 3         ┆           ┆           ┆ 6         ┆   ┆           ┆           ┆          ┆           │\n",
       "│ 2023-01-0 ┆ 115.31271 ┆ 115.59048 ┆ 118.47306 ┆ … ┆ NaN       ┆ NaN       ┆ NaN      ┆ NaN       │\n",
       "│ 4         ┆ 6         ┆ 6         ┆ 8         ┆   ┆           ┆           ┆          ┆           │\n",
       "│ 2023-01-0 ┆ 97.768356 ┆ 96.332227 ┆ 99.138632 ┆ … ┆ NaN       ┆ NaN       ┆ NaN      ┆ NaN       │\n",
       "│ 5         ┆           ┆           ┆           ┆   ┆           ┆           ┆          ┆           │\n",
       "│ …         ┆ …         ┆ …         ┆ …         ┆ … ┆ …         ┆ …         ┆ …        ┆ …         │\n",
       "│ 2023-12-2 ┆ 115.08357 ┆ 124.60571 ┆ 125.44313 ┆ … ┆ -25.29585 ┆ 57.521816 ┆ 0.21281  ┆ -1.157376 │\n",
       "│ 7         ┆ 5         ┆ 8         ┆ 1         ┆   ┆ 6         ┆           ┆          ┆           │\n",
       "│ 2023-12-2 ┆ 125.24497 ┆ 135.19942 ┆ 135.72226 ┆ … ┆ -1.820313 ┆ 56.228611 ┆ 0.831466 ┆ -1.144141 │\n",
       "│ 8         ┆ 2         ┆ 2         ┆ 1         ┆   ┆           ┆           ┆          ┆           │\n",
       "│ 2023-12-2 ┆ 108.85745 ┆ 119.49767 ┆ 122.67982 ┆ … ┆ -36.61523 ┆ 58.605139 ┆ 0.813077 ┆ -0.943298 │\n",
       "│ 9         ┆ 3         ┆ 2         ┆ 3         ┆   ┆ 7         ┆           ┆          ┆           │\n",
       "│ 2023-12-3 ┆ 113.98964 ┆ 122.88265 ┆ 126.41503 ┆ … ┆ -29.11415 ┆ 64.093856 ┆ 0.917577 ┆ -0.801594 │\n",
       "│ 0         ┆ 5         ┆ 3         ┆ 1         ┆   ┆ 3         ┆           ┆          ┆           │\n",
       "│ 2023-12-3 ┆ 116.90144 ┆ 125.34483 ┆ 125.50276 ┆ … ┆ -23.65799 ┆ 63.661036 ┆ 1.098385 ┆ -0.500348 │\n",
       "│ 1         ┆           ┆           ┆ 1         ┆   ┆ 1         ┆           ┆          ┆           │\n",
       "└───────────┴───────────┴───────────┴───────────┴───┴───────────┴───────────┴──────────┴───────────┘"
      ]
     },
     "execution_count": 63,
     "metadata": {},
     "output_type": "execute_result"
    }
   ],
   "source": [
    "transform(df)"
   ]
  },
  {
   "cell_type": "code",
   "execution_count": null,
   "metadata": {},
   "outputs": [],
   "source": []
  }
 ],
 "metadata": {
  "kernelspec": {
   "display_name": ".venv",
   "language": "python",
   "name": "python3"
  },
  "language_info": {
   "codemirror_mode": {
    "name": "ipython",
    "version": 3
   },
   "file_extension": ".py",
   "mimetype": "text/x-python",
   "name": "python",
   "nbconvert_exporter": "python",
   "pygments_lexer": "ipython3",
   "version": "3.13.1"
  }
 },
 "nbformat": 4,
 "nbformat_minor": 2
}
